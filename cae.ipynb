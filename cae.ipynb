{
 "cells": [
  {
   "cell_type": "code",
   "execution_count": 1,
   "metadata": {},
   "outputs": [],
   "source": [
    "#%pip install scikit-image"
   ]
  },
  {
   "cell_type": "code",
   "execution_count": null,
   "metadata": {},
   "outputs": [],
   "source": [
    "import numpy as np\n",
    "import matplotlib.pyplot as plt\n",
    "from keras.layers import Input, Conv2D, MaxPooling2D, UpSampling2D\n",
    "from keras.models import Model\n",
    "from keras.datasets import cifar100\n",
    "\n",
    "import os "
   ]
  },
  {
   "cell_type": "code",
   "execution_count": null,
   "metadata": {},
   "outputs": [],
   "source": [
    "# Import the dataset\n",
    "def read_images(dir):\n",
    " \n",
    "    dir = 'data/airplane_cabin/' + dir\n",
    "    imgs_names = os.listdir(dir)\n",
    "\n",
    "    imgs = []\n",
    "    for img in imgs_names:\n",
    "        imgs.append(plt.imread(dir +'/' + img))\n",
    "\n",
    "    return imgs\n",
    "maps_ = os.listdir('data/airplane_cabin')\n",
    "img = [read_images(dir) for dir in maps_[:20]]"
   ]
  },
  {
   "cell_type": "code",
   "execution_count": null,
   "metadata": {},
   "outputs": [],
   "source": [
    "# split test and train\n",
    "x_test = []\n",
    "x_train = []\n",
    "for i in range(len(img)):\n",
    "    length = len(img[i])\n",
    "    test_numbers = np.random.randint(0,length,int(np.floor(length/10)))\n",
    "    x_test = x_test + [img[i][j] for j in test_numbers]\n",
    "    x_train = x_train + [img[i][j] for j in range(length) if j not in test_numbers]\n",
    "\n",
    "fig, ax = plt.subplots(1,2)\n",
    "ax[0].imshow(x_train[-1])\n",
    "ax[1].imshow(x_test[-1])\n"
   ]
  },
  {
   "cell_type": "code",
   "execution_count": null,
   "metadata": {},
   "outputs": [],
   "source": [
    "for i in range(len(x_train)-1):\n",
    "    if x_train[i].shape != (256,256,3):\n",
    "        print(i, x_train[i].shape)\n",
    "        x_train.pop(i)"
   ]
  },
  {
   "cell_type": "code",
   "execution_count": null,
   "metadata": {},
   "outputs": [],
   "source": [
    "# Preprocess the data\n",
    "x_train = np.array([img.astype('float32') / 255 for img in x_train])\n",
    "x_test = np.array([img.astype('float32') / 255 for img in x_test])\n",
    "x_train_gray = np.dot(x_train, [0.2989, 0.5870, 0.1140])\n",
    "x_test_gray = np.dot(x_test, [0.2989, 0.5870, 0.1140])\n",
    "x_train_gray = np.reshape(x_train_gray, (len(x_train_gray), 256, 256, 1))\n",
    "x_test_gray = np.reshape(x_test_gray, (len(x_test_gray), 256, 256, 1))\n",
    "\n",
    "fig, ax = plt.subplots(1,2)\n",
    "ax[0].imshow(x_train_gray[0], cmap='gray')\n",
    "_ = ax[1].imshow(x_test_gray[0], cmap='gray')\n",
    "\n"
   ]
  },
  {
   "cell_type": "code",
   "execution_count": null,
   "metadata": {},
   "outputs": [],
   "source": [
    "# CAE architecture\n",
    "input_img = Input(shape=(256, 256, 1))\n",
    "\n",
    "# Encoder\n",
    "x = Conv2D(32, (3, 3), activation='relu', padding='same')(input_img)\n",
    "x = MaxPooling2D((2, 2), padding='same')(x)\n",
    "x = Conv2D(64, (3, 3), activation='relu', padding='same')(x)\n",
    "encoded = MaxPooling2D((2, 2), padding='same')(x)\n",
    "\n",
    "# Decoder\n",
    "x = Conv2D(64, (3, 3), activation='relu', padding='same')(encoded)\n",
    "x = UpSampling2D((2, 2))(x)\n",
    "x = Conv2D(32, (3, 3), activation='relu', padding='same')(x)\n",
    "x = UpSampling2D((2, 2))(x)\n",
    "decoded = Conv2D(3, (3, 3), activation='sigmoid', padding='same')(x)\n",
    "\n",
    "# Autoencoder model\n",
    "autoencoder = Model(input_img, decoded)\n",
    "autoencoder.compile(optimizer='adam', loss='mse', learning_rate = 0.01)"
   ]
  },
  {
   "cell_type": "code",
   "execution_count": null,
   "metadata": {},
   "outputs": [],
   "source": [
    "autoencoder.summary()"
   ]
  },
  {
   "cell_type": "code",
   "execution_count": 38,
   "metadata": {},
   "outputs": [
    {
     "name": "stdout",
     "output_type": "stream",
     "text": [
      "37/57 [==================>...........] - ETA: 8:56 - loss: 0.0099"
     ]
    },
    {
     "name": "stdout",
     "output_type": "stream",
     "text": [
      "39/57 [===================>..........] - ETA: 7:56 - loss: 0.0100"
     ]
    }
   ],
   "source": [
    "# Train the CAE\n",
    "history = autoencoder.fit(x_train_gray, x_train, epochs=5, batch_size=32, shuffle=True, validation_data=(x_test_gray, x_test))"
   ]
  },
  {
   "cell_type": "code",
   "execution_count": null,
   "metadata": {},
   "outputs": [],
   "source": [
    "plt.plot(history.history['accuracy'])\n",
    "plt.plot(history.history['val_accuracy'])\n",
    "plt.title('Accuracy')\n",
    "plt.ylabel('accuracy')\n",
    "plt.xlabel('epochs')\n",
    "\n",
    "\n"
   ]
  },
  {
   "cell_type": "code",
   "execution_count": null,
   "metadata": {},
   "outputs": [],
   "source": [
    "# Color restoration on test images\n",
    "restored_images = autoencoder.predict(x_test_gray)"
   ]
  },
  {
   "cell_type": "code",
   "execution_count": null,
   "metadata": {},
   "outputs": [],
   "source": [
    "# Display original grayscale and restored colored images\n",
    "n = 5  # Number of images to display   \n",
    "plt.figure(figsize=(20, 10))\n",
    "for i in range(n):\n",
    "    j = int(np.random.randint(0,len(x_test_gray),1))\n",
    "    # Original grayscale image\n",
    "    ax = plt.subplot(3, n, i + 1)\n",
    "    plt.imshow(x_test_gray[j].reshape(256, 256), cmap='gray')\n",
    "    ax.get_xaxis().set_visible(False)\n",
    "    ax.get_yaxis().set_visible(False)\n",
    "\n",
    "    # Restored colored image\n",
    "    ax = plt.subplot(2, n, i + 1 + n)\n",
    "    plt.imshow(restored_images[j])\n",
    "    ax.get_xaxis().set_visible(False)\n",
    "    ax.get_yaxis().set_visible(False)\n",
    "plt.show()\n"
   ]
  }
 ],
 "metadata": {
  "kernelspec": {
   "display_name": ".venv",
   "language": "python",
   "name": "python3"
  },
  "language_info": {
   "codemirror_mode": {
    "name": "ipython",
    "version": 3
   },
   "file_extension": ".py",
   "mimetype": "text/x-python",
   "name": "python",
   "nbconvert_exporter": "python",
   "pygments_lexer": "ipython3",
   "version": "3.9.7"
  },
  "orig_nbformat": 4
 },
 "nbformat": 4,
 "nbformat_minor": 2
}
